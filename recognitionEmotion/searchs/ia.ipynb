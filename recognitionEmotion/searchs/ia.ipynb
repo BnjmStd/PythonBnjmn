{
 "cells": [
  {
   "cell_type": "code",
   "execution_count": 2,
   "metadata": {},
   "outputs": [],
   "source": [
    "### Importar librerias\n",
    "import pandas as pd\n",
    "import seaborn as sns\n",
    "from sqlalchemy import engine\n",
    "from pandasql import sqldf\n",
    "from IPython.display import Image\n",
    "import seaborn as sns\n",
    "import matplotlib.pyplot as plt\n",
    "from datetime import datetime\n",
    "import numpy as np"
   ]
  },
  {
   "cell_type": "code",
   "execution_count": 3,
   "metadata": {},
   "outputs": [
    {
     "data": {
      "text/plain": [
       "(19, 11)"
      ]
     },
     "execution_count": 3,
     "metadata": {},
     "output_type": "execute_result"
    }
   ],
   "source": [
    "# Cargar los tres archivos CSV en DataFrames separados\n",
    "df1 = pd.read_csv('./assets/csv-set1.csv')\n",
    "df2 = pd.read_csv('./assets/csv-set2.csv')\n",
    "df3 = pd.read_csv('./assets/csv-set3.csv')\n",
    "\n",
    "# Combinar los DataFrames en uno solo\n",
    "dfCombinado = pd.concat([df1, df2, df3], ignore_index=True)\n",
    "\n",
    "dfCombinado.shape\n"
   ]
  },
  {
   "cell_type": "code",
   "execution_count": 4,
   "metadata": {},
   "outputs": [
    {
     "data": {
      "text/plain": [
       "np.int64(2)"
      ]
     },
     "execution_count": 4,
     "metadata": {},
     "output_type": "execute_result"
    }
   ],
   "source": [
    "dfCombinado['Title'].duplicated().sum()"
   ]
  },
  {
   "cell_type": "code",
   "execution_count": 5,
   "metadata": {},
   "outputs": [],
   "source": [
    "# Eliminar duplicados basados en la columna 'Title'\n",
    "x = dfCombinado.drop_duplicates(subset='Title')\n",
    "\n",
    "# Guardar el DataFrame sin duplicados en un nuevo archivo CSV\n",
    "x.to_csv('archivo_sin_duplicados.csv', index=False)"
   ]
  },
  {
   "cell_type": "code",
   "execution_count": 6,
   "metadata": {},
   "outputs": [
    {
     "data": {
      "text/plain": [
       "(17, 11)"
      ]
     },
     "execution_count": 6,
     "metadata": {},
     "output_type": "execute_result"
    }
   ],
   "source": [
    "x.shape"
   ]
  },
  {
   "cell_type": "code",
   "execution_count": null,
   "metadata": {},
   "outputs": [],
   "source": []
  }
 ],
 "metadata": {
  "kernelspec": {
   "display_name": "x",
   "language": "python",
   "name": "python3"
  },
  "language_info": {
   "codemirror_mode": {
    "name": "ipython",
    "version": 3
   },
   "file_extension": ".py",
   "mimetype": "text/x-python",
   "name": "python",
   "nbconvert_exporter": "python",
   "pygments_lexer": "ipython3",
   "version": "3.10.12"
  }
 },
 "nbformat": 4,
 "nbformat_minor": 2
}
