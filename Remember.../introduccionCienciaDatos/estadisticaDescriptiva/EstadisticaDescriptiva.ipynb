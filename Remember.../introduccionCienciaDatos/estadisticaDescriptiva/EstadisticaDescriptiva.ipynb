{
 "cells": [
  {
   "cell_type": "code",
   "execution_count": 3,
   "metadata": {},
   "outputs": [],
   "source": [
    "import pandas as pd\n",
    "import numpy as np\n",
    "import matplotlib as plt\n",
    "import matplotlib.pyplot as plt\n",
    "\n",
    "import seaborn as sns"
   ]
  },
  {
   "cell_type": "code",
   "execution_count": 5,
   "metadata": {},
   "outputs": [],
   "source": [
    "## kaggle\n",
    "df = pd.read_csv(\"player_valuations.csv\")"
   ]
  },
  {
   "cell_type": "code",
   "execution_count": 6,
   "metadata": {},
   "outputs": [
    {
     "data": {
      "text/plain": [
       "(464782, 5)"
      ]
     },
     "execution_count": 6,
     "metadata": {},
     "output_type": "execute_result"
    }
   ],
   "source": [
    "df.shape"
   ]
  },
  {
   "cell_type": "code",
   "execution_count": 7,
   "metadata": {},
   "outputs": [
    {
     "data": {
      "text/html": [
       "<div>\n",
       "<style scoped>\n",
       "    .dataframe tbody tr th:only-of-type {\n",
       "        vertical-align: middle;\n",
       "    }\n",
       "\n",
       "    .dataframe tbody tr th {\n",
       "        vertical-align: top;\n",
       "    }\n",
       "\n",
       "    .dataframe thead th {\n",
       "        text-align: right;\n",
       "    }\n",
       "</style>\n",
       "<table border=\"1\" class=\"dataframe\">\n",
       "  <thead>\n",
       "    <tr style=\"text-align: right;\">\n",
       "      <th></th>\n",
       "      <th>player_id</th>\n",
       "      <th>date</th>\n",
       "      <th>market_value_in_eur</th>\n",
       "      <th>current_club_id</th>\n",
       "      <th>player_club_domestic_competition_id</th>\n",
       "    </tr>\n",
       "  </thead>\n",
       "  <tbody>\n",
       "    <tr>\n",
       "      <th>0</th>\n",
       "      <td>405973</td>\n",
       "      <td>2000-01-20</td>\n",
       "      <td>150000</td>\n",
       "      <td>3057</td>\n",
       "      <td>BE1</td>\n",
       "    </tr>\n",
       "    <tr>\n",
       "      <th>1</th>\n",
       "      <td>342216</td>\n",
       "      <td>2001-07-20</td>\n",
       "      <td>100000</td>\n",
       "      <td>1241</td>\n",
       "      <td>SC1</td>\n",
       "    </tr>\n",
       "    <tr>\n",
       "      <th>2</th>\n",
       "      <td>3132</td>\n",
       "      <td>2003-12-09</td>\n",
       "      <td>400000</td>\n",
       "      <td>126</td>\n",
       "      <td>TR1</td>\n",
       "    </tr>\n",
       "    <tr>\n",
       "      <th>3</th>\n",
       "      <td>6893</td>\n",
       "      <td>2003-12-15</td>\n",
       "      <td>900000</td>\n",
       "      <td>984</td>\n",
       "      <td>GB1</td>\n",
       "    </tr>\n",
       "    <tr>\n",
       "      <th>4</th>\n",
       "      <td>10</td>\n",
       "      <td>2004-10-04</td>\n",
       "      <td>7000000</td>\n",
       "      <td>398</td>\n",
       "      <td>IT1</td>\n",
       "    </tr>\n",
       "    <tr>\n",
       "      <th>...</th>\n",
       "      <td>...</td>\n",
       "      <td>...</td>\n",
       "      <td>...</td>\n",
       "      <td>...</td>\n",
       "      <td>...</td>\n",
       "    </tr>\n",
       "    <tr>\n",
       "      <th>464777</th>\n",
       "      <td>1073997</td>\n",
       "      <td>2024-01-08</td>\n",
       "      <td>150000</td>\n",
       "      <td>18</td>\n",
       "      <td>L1</td>\n",
       "    </tr>\n",
       "    <tr>\n",
       "      <th>464778</th>\n",
       "      <td>361508</td>\n",
       "      <td>2024-01-10</td>\n",
       "      <td>300000</td>\n",
       "      <td>39</td>\n",
       "      <td>L1</td>\n",
       "    </tr>\n",
       "    <tr>\n",
       "      <th>464779</th>\n",
       "      <td>705337</td>\n",
       "      <td>2024-01-10</td>\n",
       "      <td>125000</td>\n",
       "      <td>26459</td>\n",
       "      <td>UKR1</td>\n",
       "    </tr>\n",
       "    <tr>\n",
       "      <th>464780</th>\n",
       "      <td>800946</td>\n",
       "      <td>2024-01-10</td>\n",
       "      <td>1000000</td>\n",
       "      <td>79</td>\n",
       "      <td>L1</td>\n",
       "    </tr>\n",
       "    <tr>\n",
       "      <th>464781</th>\n",
       "      <td>659225</td>\n",
       "      <td>2024-01-17</td>\n",
       "      <td>100000</td>\n",
       "      <td>5724</td>\n",
       "      <td>DK1</td>\n",
       "    </tr>\n",
       "  </tbody>\n",
       "</table>\n",
       "<p>464782 rows × 5 columns</p>\n",
       "</div>"
      ],
      "text/plain": [
       "        player_id        date  market_value_in_eur  current_club_id  \\\n",
       "0          405973  2000-01-20               150000             3057   \n",
       "1          342216  2001-07-20               100000             1241   \n",
       "2            3132  2003-12-09               400000              126   \n",
       "3            6893  2003-12-15               900000              984   \n",
       "4              10  2004-10-04              7000000              398   \n",
       "...           ...         ...                  ...              ...   \n",
       "464777    1073997  2024-01-08               150000               18   \n",
       "464778     361508  2024-01-10               300000               39   \n",
       "464779     705337  2024-01-10               125000            26459   \n",
       "464780     800946  2024-01-10              1000000               79   \n",
       "464781     659225  2024-01-17               100000             5724   \n",
       "\n",
       "       player_club_domestic_competition_id  \n",
       "0                                      BE1  \n",
       "1                                      SC1  \n",
       "2                                      TR1  \n",
       "3                                      GB1  \n",
       "4                                      IT1  \n",
       "...                                    ...  \n",
       "464777                                  L1  \n",
       "464778                                  L1  \n",
       "464779                                UKR1  \n",
       "464780                                  L1  \n",
       "464781                                 DK1  \n",
       "\n",
       "[464782 rows x 5 columns]"
      ]
     },
     "execution_count": 7,
     "metadata": {},
     "output_type": "execute_result"
    }
   ],
   "source": [
    "df"
   ]
  },
  {
   "cell_type": "code",
   "execution_count": 8,
   "metadata": {},
   "outputs": [],
   "source": [
    "# cambiamos el nombre de la col\n",
    "\n",
    "df.rename(columns={'market_value_in_eur': 'precio_en_euros'}, inplace=True)"
   ]
  },
  {
   "cell_type": "code",
   "execution_count": 9,
   "metadata": {},
   "outputs": [
    {
     "data": {
      "text/html": [
       "<div>\n",
       "<style scoped>\n",
       "    .dataframe tbody tr th:only-of-type {\n",
       "        vertical-align: middle;\n",
       "    }\n",
       "\n",
       "    .dataframe tbody tr th {\n",
       "        vertical-align: top;\n",
       "    }\n",
       "\n",
       "    .dataframe thead th {\n",
       "        text-align: right;\n",
       "    }\n",
       "</style>\n",
       "<table border=\"1\" class=\"dataframe\">\n",
       "  <thead>\n",
       "    <tr style=\"text-align: right;\">\n",
       "      <th></th>\n",
       "      <th>player_id</th>\n",
       "      <th>date</th>\n",
       "      <th>precio_en_euros</th>\n",
       "      <th>current_club_id</th>\n",
       "      <th>player_club_domestic_competition_id</th>\n",
       "    </tr>\n",
       "  </thead>\n",
       "  <tbody>\n",
       "    <tr>\n",
       "      <th>292158</th>\n",
       "      <td>342229</td>\n",
       "      <td>2019-12-19</td>\n",
       "      <td>200000000</td>\n",
       "      <td>583</td>\n",
       "      <td>FR1</td>\n",
       "    </tr>\n",
       "    <tr>\n",
       "      <th>268400</th>\n",
       "      <td>342229</td>\n",
       "      <td>2019-06-03</td>\n",
       "      <td>200000000</td>\n",
       "      <td>583</td>\n",
       "      <td>FR1</td>\n",
       "    </tr>\n",
       "    <tr>\n",
       "      <th>252371</th>\n",
       "      <td>342229</td>\n",
       "      <td>2018-12-17</td>\n",
       "      <td>200000000</td>\n",
       "      <td>583</td>\n",
       "      <td>FR1</td>\n",
       "    </tr>\n",
       "    <tr>\n",
       "      <th>443838</th>\n",
       "      <td>418560</td>\n",
       "      <td>2023-06-20</td>\n",
       "      <td>180000000</td>\n",
       "      <td>281</td>\n",
       "      <td>GB1</td>\n",
       "    </tr>\n",
       "    <tr>\n",
       "      <th>328329</th>\n",
       "      <td>342229</td>\n",
       "      <td>2020-10-15</td>\n",
       "      <td>180000000</td>\n",
       "      <td>583</td>\n",
       "      <td>FR1</td>\n",
       "    </tr>\n",
       "    <tr>\n",
       "      <th>...</th>\n",
       "      <td>...</td>\n",
       "      <td>...</td>\n",
       "      <td>...</td>\n",
       "      <td>...</td>\n",
       "      <td>...</td>\n",
       "    </tr>\n",
       "    <tr>\n",
       "      <th>395384</th>\n",
       "      <td>202836</td>\n",
       "      <td>2022-05-31</td>\n",
       "      <td>10000</td>\n",
       "      <td>24</td>\n",
       "      <td>L1</td>\n",
       "    </tr>\n",
       "    <tr>\n",
       "      <th>407532</th>\n",
       "      <td>621346</td>\n",
       "      <td>2022-06-28</td>\n",
       "      <td>10000</td>\n",
       "      <td>276</td>\n",
       "      <td>IT1</td>\n",
       "    </tr>\n",
       "    <tr>\n",
       "      <th>407547</th>\n",
       "      <td>696617</td>\n",
       "      <td>2022-06-28</td>\n",
       "      <td>10000</td>\n",
       "      <td>4083</td>\n",
       "      <td>IT1</td>\n",
       "    </tr>\n",
       "    <tr>\n",
       "      <th>407184</th>\n",
       "      <td>49681</td>\n",
       "      <td>2022-06-28</td>\n",
       "      <td>10000</td>\n",
       "      <td>2381</td>\n",
       "      <td>TR1</td>\n",
       "    </tr>\n",
       "    <tr>\n",
       "      <th>15338</th>\n",
       "      <td>60096</td>\n",
       "      <td>2008-03-17</td>\n",
       "      <td>0</td>\n",
       "      <td>2696</td>\n",
       "      <td>RU1</td>\n",
       "    </tr>\n",
       "  </tbody>\n",
       "</table>\n",
       "<p>464782 rows × 5 columns</p>\n",
       "</div>"
      ],
      "text/plain": [
       "        player_id        date  precio_en_euros  current_club_id  \\\n",
       "292158     342229  2019-12-19        200000000              583   \n",
       "268400     342229  2019-06-03        200000000              583   \n",
       "252371     342229  2018-12-17        200000000              583   \n",
       "443838     418560  2023-06-20        180000000              281   \n",
       "328329     342229  2020-10-15        180000000              583   \n",
       "...           ...         ...              ...              ...   \n",
       "395384     202836  2022-05-31            10000               24   \n",
       "407532     621346  2022-06-28            10000              276   \n",
       "407547     696617  2022-06-28            10000             4083   \n",
       "407184      49681  2022-06-28            10000             2381   \n",
       "15338       60096  2008-03-17                0             2696   \n",
       "\n",
       "       player_club_domestic_competition_id  \n",
       "292158                                 FR1  \n",
       "268400                                 FR1  \n",
       "252371                                 FR1  \n",
       "443838                                 GB1  \n",
       "328329                                 FR1  \n",
       "...                                    ...  \n",
       "395384                                  L1  \n",
       "407532                                 IT1  \n",
       "407547                                 IT1  \n",
       "407184                                 TR1  \n",
       "15338                                  RU1  \n",
       "\n",
       "[464782 rows x 5 columns]"
      ]
     },
     "execution_count": 9,
     "metadata": {},
     "output_type": "execute_result"
    }
   ],
   "source": [
    "# ordenamos el df\n",
    "\n",
    "df_sorted = df.sort_values(by='precio_en_euros', ascending=False)\n",
    "df_sorted"
   ]
  },
  {
   "cell_type": "markdown",
   "metadata": {},
   "source": [
    "### Estadistica Desciptiva"
   ]
  },
  {
   "cell_type": "markdown",
   "metadata": {},
   "source": [
    "#### Resumen estadístico básico"
   ]
  },
  {
   "cell_type": "code",
   "execution_count": 11,
   "metadata": {},
   "outputs": [
    {
     "data": {
      "text/html": [
       "<div>\n",
       "<style scoped>\n",
       "    .dataframe tbody tr th:only-of-type {\n",
       "        vertical-align: middle;\n",
       "    }\n",
       "\n",
       "    .dataframe tbody tr th {\n",
       "        vertical-align: top;\n",
       "    }\n",
       "\n",
       "    .dataframe thead th {\n",
       "        text-align: right;\n",
       "    }\n",
       "</style>\n",
       "<table border=\"1\" class=\"dataframe\">\n",
       "  <thead>\n",
       "    <tr style=\"text-align: right;\">\n",
       "      <th></th>\n",
       "      <th>player_id</th>\n",
       "      <th>precio_en_euros</th>\n",
       "      <th>current_club_id</th>\n",
       "    </tr>\n",
       "  </thead>\n",
       "  <tbody>\n",
       "    <tr>\n",
       "      <th>count</th>\n",
       "      <td>464782.000</td>\n",
       "      <td>464782.000</td>\n",
       "      <td>464782.000</td>\n",
       "    </tr>\n",
       "    <tr>\n",
       "      <th>mean</th>\n",
       "      <td>204484.605</td>\n",
       "      <td>2359657.620</td>\n",
       "      <td>4060.930</td>\n",
       "    </tr>\n",
       "    <tr>\n",
       "      <th>std</th>\n",
       "      <td>186128.543</td>\n",
       "      <td>6666213.585</td>\n",
       "      <td>9516.104</td>\n",
       "    </tr>\n",
       "    <tr>\n",
       "      <th>min</th>\n",
       "      <td>10.000</td>\n",
       "      <td>0.000</td>\n",
       "      <td>3.000</td>\n",
       "    </tr>\n",
       "    <tr>\n",
       "      <th>25%</th>\n",
       "      <td>56841.000</td>\n",
       "      <td>200000.000</td>\n",
       "      <td>369.000</td>\n",
       "    </tr>\n",
       "    <tr>\n",
       "      <th>50%</th>\n",
       "      <td>149526.000</td>\n",
       "      <td>500000.000</td>\n",
       "      <td>1010.000</td>\n",
       "    </tr>\n",
       "    <tr>\n",
       "      <th>75%</th>\n",
       "      <td>297772.000</td>\n",
       "      <td>1500000.000</td>\n",
       "      <td>2969.000</td>\n",
       "    </tr>\n",
       "    <tr>\n",
       "      <th>max</th>\n",
       "      <td>1186012.000</td>\n",
       "      <td>200000000.000</td>\n",
       "      <td>83678.000</td>\n",
       "    </tr>\n",
       "  </tbody>\n",
       "</table>\n",
       "</div>"
      ],
      "text/plain": [
       "        player_id  precio_en_euros  current_club_id\n",
       "count  464782.000       464782.000       464782.000\n",
       "mean   204484.605      2359657.620         4060.930\n",
       "std    186128.543      6666213.585         9516.104\n",
       "min        10.000            0.000            3.000\n",
       "25%     56841.000       200000.000          369.000\n",
       "50%    149526.000       500000.000         1010.000\n",
       "75%    297772.000      1500000.000         2969.000\n",
       "max   1186012.000    200000000.000        83678.000"
      ]
     },
     "execution_count": 11,
     "metadata": {},
     "output_type": "execute_result"
    }
   ],
   "source": [
    "# configurar el formato de visualización para mostrar números completos\n",
    "\n",
    "pd.set_option('display.float_format', lambda x: '%.3f' % x)\n",
    "\n",
    "df.describe()"
   ]
  },
  {
   "cell_type": "code",
   "execution_count": 12,
   "metadata": {},
   "outputs": [
    {
     "data": {
      "text/plain": [
       "np.float64(2359657.620129437)"
      ]
     },
     "execution_count": 12,
     "metadata": {},
     "output_type": "execute_result"
    }
   ],
   "source": [
    "## funciones de pandas\n",
    "\n",
    "df['precio_en_euros'].mean()"
   ]
  },
  {
   "cell_type": "code",
   "execution_count": 13,
   "metadata": {},
   "outputs": [
    {
     "data": {
      "text/plain": [
       "np.float64(500000.0)"
      ]
     },
     "execution_count": 13,
     "metadata": {},
     "output_type": "execute_result"
    }
   ],
   "source": [
    "df['precio_en_euros'].median()"
   ]
  },
  {
   "cell_type": "code",
   "execution_count": 14,
   "metadata": {},
   "outputs": [
    {
     "data": {
      "text/plain": [
       "0    300000\n",
       "Name: precio_en_euros, dtype: int64"
      ]
     },
     "execution_count": 14,
     "metadata": {},
     "output_type": "execute_result"
    }
   ],
   "source": [
    "df['precio_en_euros'].mode()"
   ]
  },
  {
   "cell_type": "code",
   "execution_count": 15,
   "metadata": {},
   "outputs": [
    {
     "data": {
      "image/png": "[encoded data removed]",
      "text/plain": [
       "<Figure size 640x480 with 1 Axes>"
      ]
     },
     "metadata": {},
     "output_type": "display_data"
    },
    {
     "data": {
      "image/png": "[encoded data removed]",
      "text/plain": [
       "<Figure size 640x480 with 1 Axes>"
      ]
     },
     "metadata": {},
     "output_type": "display_data"
    }
   ],
   "source": [
    "# ajustar la escala del y para mostrar números completos\n",
    "\n",
    "plt.ticklabel_format(style='plain', axis='y')\n",
    "\n",
    "# boxplot con matplotlib\n",
    "\n",
    "plt.boxplot(df['precio_en_euros'])\n",
    "plt.show()\n",
    "\n",
    "\n",
    "# histograma con matplot\n",
    "\n",
    "plt.hist(df['precio_en_euros'], bins=100)\n",
    "plt.title('Histograma de precio')\n",
    "plt.show()"
   ]
  },
  {
   "cell_type": "code",
   "execution_count": 16,
   "metadata": {},
   "outputs": [],
   "source": [
    "## tenemos muchos outlayer"
   ]
  },
  {
   "cell_type": "markdown",
   "metadata": {},
   "source": [
    "### Limpieza de datos utilizando el IQR\n",
    "\n",
    "Este proceso está relacionado con la identificación y tratamiento de outliers\n",
    "en un conjunto de datos. Aqui hay una explicación:\n",
    "\n",
    "1. cálculo de los cuartiles (Q1, Q3)\n",
    "\n",
    "* Q1 representa el primer cuartil, que es el valor por debajo del cual se encuentran los 25% de los datos\n",
    "\n",
    "* Q3 representa el 3er cuartil, que es el valor por debajo del cual se encuentran el 75% de los datos\n",
    "\n",
    "estos cuartiles dividen el conjunto de datos en 4 partes iguales.\n",
    "\n",
    "2. calculo de rango intercuartílico (IQR)\n",
    "\n",
    "* El rango intercuartílico es la diferencia entre el tercel cuartil (Q3) y el primer cuartil (Q1)\n",
    "\n",
    "IQR = Q3 - Q1\n",
    "\n",
    "3. definición de límites por Outliers\n",
    "\n",
    "* se establecen límites superior e inferior para identificar valores atípicos en los datos\n",
    "* el límite inferior se calcula restando 1.5 veces el IQR a Q1: lower_bound = Q1 - 1.5 * IQR\n",
    "\n",
    "* El limite superior se calcula sumando 1.5 veces el IQR a Q3: upper_bound = Q3 + 1.5 * IQR\n",
    "\n",
    "4. identificación de outliers\n",
    "\n",
    "* cualquier valor en el conjunto de datos que sea menor que el limite inferior o mayor que el límite superior se considera un outlier\n",
    "\n",
    "Este enfoque, basado en el rango intercuartílico y los limites establecidos, es una tecnica común para identificar y manejar valores atípicos en un conjunto de datos. La idea es que los valores atípicos están más alla de ciertos límites estadísitcos y pueden ser tratados de manera especial segun los requisitos del análisis."
   ]
  }
 ],
 "metadata": {
  "kernelspec": {
   "display_name": "x",
   "language": "python",
   "name": "python3"
  },
  "language_info": {
   "codemirror_mode": {
    "name": "ipython",
    "version": 3
   },
   "file_extension": ".py",
   "mimetype": "text/x-python",
   "name": "python",
   "nbconvert_exporter": "python",
   "pygments_lexer": "ipython3",
   "version": "3.10.12"
  }
 },
 "nbformat": 4,
 "nbformat_minor": 2
}
